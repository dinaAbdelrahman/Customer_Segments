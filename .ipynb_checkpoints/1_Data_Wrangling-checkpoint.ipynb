{
 "cells": [
  {
   "cell_type": "markdown",
   "metadata": {},
   "source": [
    "<h1 style=\"font-size:42px; text-align:center; margin-bottom:30px;\"><span style=\"color:SteelBlue\">Module 1:</span> Data Wrangling</h1>\n",
    "<hr>\n",
    "\n",
    "Welcome to <span style=\"color:royalblue\">Module 1: Data Wrangling</span>!\n",
    "\n",
    "Often, the most interesting machine learning applications require you to **wrangle** your data first.\n",
    "\n",
    "For this project, we've been given a **transaction-level** dataset. In other words, each observation in the raw dataset is for a single transaction - one item, one customer, one purchase.\n",
    "\n",
    "Therefore, to get a **customer-level** data (since we want to build clusters for customers, not transactions) we need to **aggregate transactions by customer** and **engineer customer-level features**.\n",
    "\n",
    "* This step blends together exploratory analysis, data cleaning, and feature engineering.\n",
    "* Here, feature engineering comes from aggregating the transaction-level data.\n",
    "* As you'll see, you still have a lot of room for creativity in this step!\n",
    "\n",
    "<br><hr id=\"toc\">\n",
    "\n",
    "### In this module...\n",
    "\n",
    "In this module, we'll cover:\n",
    "1. [Transaction-level exploration](#exploration)\n",
    "2. [Transaction-level cleaning](#cleaning)\n",
    "3. [Customer-level feature engineering](#customer-level)\n",
    "4. [Intermediary levels](#intermediary-levels)\n",
    "5. [Joining together the ABT](#joining)\n",
    "\n",
    "\n",
    "<br><hr>"
   ]
  },
  {
   "cell_type": "markdown",
   "metadata": {},
   "source": [
    "### First, let's import libraries and load the dataset.\n",
    "\n",
    "First, import libraries that you'll need."
   ]
  },
  {
   "cell_type": "code",
   "execution_count": 1,
   "metadata": {
    "collapsed": true
   },
   "outputs": [],
   "source": [
    "# print_function for compatibility with Python 3\n",
    "from __future__ import  print_function\n",
    "\n",
    "# NumPy for numerical computing\n",
    "import numpy as np\n",
    "\n",
    "# Pandas for DataFrames\n",
    "import pandas as pd\n",
    "\n",
    "# Matplotlib for visualization\n",
    "import matplotlib.pyplot as plt\n",
    "\n",
    "# display plots in the notebook\n",
    "%matplotlib inline\n",
    "\n",
    "# Seaborn for easier visualization\n",
    "import seaborn as sns"
   ]
  },
  {
   "cell_type": "markdown",
   "metadata": {},
   "source": [
    "Next, let's import the dataset.\n",
    "* The file path is <code style=\"color:crimson\">'project_files/int_online_tx.csv'</code>"
   ]
  },
  {
   "cell_type": "code",
   "execution_count": 2,
   "metadata": {
    "collapsed": true
   },
   "outputs": [],
   "source": [
    "# Load international online transactions data from CSV\n",
    "df = pd.read_csv('project_files/int_online_tx.csv')"
   ]
  },
  {
   "cell_type": "markdown",
   "metadata": {},
   "source": [
    "Now we're ready to jump into wrangling the data!"
   ]
  },
  {
   "cell_type": "markdown",
   "metadata": {},
   "source": [
    "<span id=\"exploration\"></span>\n",
    "# 1. Transaction-level exploration\n",
    "\n",
    "Even though we eventually want customer-level data, it's still helpful to do some basic exploratory analysis at the transaction level. \n",
    "\n",
    "<br>\n",
    "**First, display the shape of the dataset.**"
   ]
  },
  {
   "cell_type": "code",
   "execution_count": 3,
   "metadata": {},
   "outputs": [
    {
     "data": {
      "text/plain": [
       "(35116, 8)"
      ]
     },
     "execution_count": 3,
     "metadata": {},
     "output_type": "execute_result"
    }
   ],
   "source": [
    "# Dataframe dimensions\n",
    "df.shape"
   ]
  },
  {
   "cell_type": "markdown",
   "metadata": {},
   "source": [
    "**Next, display the first 10 observations from the dataset.**"
   ]
  },
  {
   "cell_type": "code",
   "execution_count": 4,
   "metadata": {},
   "outputs": [
    {
     "data": {
      "text/html": [
       "<div>\n",
       "<style>\n",
       "    .dataframe thead tr:only-child th {\n",
       "        text-align: right;\n",
       "    }\n",
       "\n",
       "    .dataframe thead th {\n",
       "        text-align: left;\n",
       "    }\n",
       "\n",
       "    .dataframe tbody tr th {\n",
       "        vertical-align: top;\n",
       "    }\n",
       "</style>\n",
       "<table border=\"1\" class=\"dataframe\">\n",
       "  <thead>\n",
       "    <tr style=\"text-align: right;\">\n",
       "      <th></th>\n",
       "      <th>InvoiceNo</th>\n",
       "      <th>StockCode</th>\n",
       "      <th>Description</th>\n",
       "      <th>Quantity</th>\n",
       "      <th>InvoiceDate</th>\n",
       "      <th>UnitPrice</th>\n",
       "      <th>CustomerID</th>\n",
       "      <th>Country</th>\n",
       "    </tr>\n",
       "  </thead>\n",
       "  <tbody>\n",
       "    <tr>\n",
       "      <th>0</th>\n",
       "      <td>536370</td>\n",
       "      <td>22728</td>\n",
       "      <td>ALARM CLOCK BAKELIKE PINK</td>\n",
       "      <td>24</td>\n",
       "      <td>12/1/10 8:45</td>\n",
       "      <td>3.75</td>\n",
       "      <td>12583.0</td>\n",
       "      <td>France</td>\n",
       "    </tr>\n",
       "    <tr>\n",
       "      <th>1</th>\n",
       "      <td>536370</td>\n",
       "      <td>22727</td>\n",
       "      <td>ALARM CLOCK BAKELIKE RED</td>\n",
       "      <td>24</td>\n",
       "      <td>12/1/10 8:45</td>\n",
       "      <td>3.75</td>\n",
       "      <td>12583.0</td>\n",
       "      <td>France</td>\n",
       "    </tr>\n",
       "    <tr>\n",
       "      <th>2</th>\n",
       "      <td>536370</td>\n",
       "      <td>22726</td>\n",
       "      <td>ALARM CLOCK BAKELIKE GREEN</td>\n",
       "      <td>12</td>\n",
       "      <td>12/1/10 8:45</td>\n",
       "      <td>3.75</td>\n",
       "      <td>12583.0</td>\n",
       "      <td>France</td>\n",
       "    </tr>\n",
       "    <tr>\n",
       "      <th>3</th>\n",
       "      <td>536370</td>\n",
       "      <td>21724</td>\n",
       "      <td>PANDA AND BUNNIES STICKER SHEET</td>\n",
       "      <td>12</td>\n",
       "      <td>12/1/10 8:45</td>\n",
       "      <td>0.85</td>\n",
       "      <td>12583.0</td>\n",
       "      <td>France</td>\n",
       "    </tr>\n",
       "    <tr>\n",
       "      <th>4</th>\n",
       "      <td>536370</td>\n",
       "      <td>21883</td>\n",
       "      <td>STARS GIFT TAPE</td>\n",
       "      <td>24</td>\n",
       "      <td>12/1/10 8:45</td>\n",
       "      <td>0.65</td>\n",
       "      <td>12583.0</td>\n",
       "      <td>France</td>\n",
       "    </tr>\n",
       "    <tr>\n",
       "      <th>5</th>\n",
       "      <td>536370</td>\n",
       "      <td>10002</td>\n",
       "      <td>INFLATABLE POLITICAL GLOBE</td>\n",
       "      <td>48</td>\n",
       "      <td>12/1/10 8:45</td>\n",
       "      <td>0.85</td>\n",
       "      <td>12583.0</td>\n",
       "      <td>France</td>\n",
       "    </tr>\n",
       "    <tr>\n",
       "      <th>6</th>\n",
       "      <td>536370</td>\n",
       "      <td>21791</td>\n",
       "      <td>VINTAGE HEADS AND TAILS CARD GAME</td>\n",
       "      <td>24</td>\n",
       "      <td>12/1/10 8:45</td>\n",
       "      <td>1.25</td>\n",
       "      <td>12583.0</td>\n",
       "      <td>France</td>\n",
       "    </tr>\n",
       "    <tr>\n",
       "      <th>7</th>\n",
       "      <td>536370</td>\n",
       "      <td>21035</td>\n",
       "      <td>SET/2 RED RETROSPOT TEA TOWELS</td>\n",
       "      <td>18</td>\n",
       "      <td>12/1/10 8:45</td>\n",
       "      <td>2.95</td>\n",
       "      <td>12583.0</td>\n",
       "      <td>France</td>\n",
       "    </tr>\n",
       "    <tr>\n",
       "      <th>8</th>\n",
       "      <td>536370</td>\n",
       "      <td>22326</td>\n",
       "      <td>ROUND SNACK BOXES SET OF4 WOODLAND</td>\n",
       "      <td>24</td>\n",
       "      <td>12/1/10 8:45</td>\n",
       "      <td>2.95</td>\n",
       "      <td>12583.0</td>\n",
       "      <td>France</td>\n",
       "    </tr>\n",
       "    <tr>\n",
       "      <th>9</th>\n",
       "      <td>536370</td>\n",
       "      <td>22629</td>\n",
       "      <td>SPACEBOY LUNCH BOX</td>\n",
       "      <td>24</td>\n",
       "      <td>12/1/10 8:45</td>\n",
       "      <td>1.95</td>\n",
       "      <td>12583.0</td>\n",
       "      <td>France</td>\n",
       "    </tr>\n",
       "  </tbody>\n",
       "</table>\n",
       "</div>"
      ],
      "text/plain": [
       "   InvoiceNo StockCode                          Description  Quantity  \\\n",
       "0     536370     22728            ALARM CLOCK BAKELIKE PINK        24   \n",
       "1     536370     22727            ALARM CLOCK BAKELIKE RED         24   \n",
       "2     536370     22726           ALARM CLOCK BAKELIKE GREEN        12   \n",
       "3     536370     21724      PANDA AND BUNNIES STICKER SHEET        12   \n",
       "4     536370     21883                     STARS GIFT TAPE         24   \n",
       "5     536370     10002          INFLATABLE POLITICAL GLOBE         48   \n",
       "6     536370     21791   VINTAGE HEADS AND TAILS CARD GAME         24   \n",
       "7     536370     21035      SET/2 RED RETROSPOT TEA TOWELS         18   \n",
       "8     536370     22326  ROUND SNACK BOXES SET OF4 WOODLAND         24   \n",
       "9     536370     22629                  SPACEBOY LUNCH BOX         24   \n",
       "\n",
       "    InvoiceDate  UnitPrice  CustomerID Country  \n",
       "0  12/1/10 8:45       3.75     12583.0  France  \n",
       "1  12/1/10 8:45       3.75     12583.0  France  \n",
       "2  12/1/10 8:45       3.75     12583.0  France  \n",
       "3  12/1/10 8:45       0.85     12583.0  France  \n",
       "4  12/1/10 8:45       0.65     12583.0  France  \n",
       "5  12/1/10 8:45       0.85     12583.0  France  \n",
       "6  12/1/10 8:45       1.25     12583.0  France  \n",
       "7  12/1/10 8:45       2.95     12583.0  France  \n",
       "8  12/1/10 8:45       2.95     12583.0  France  \n",
       "9  12/1/10 8:45       1.95     12583.0  France  "
      ]
     },
     "execution_count": 4,
     "metadata": {},
     "output_type": "execute_result"
    }
   ],
   "source": [
    "# First 10 rows of data\n",
    "df.head(10)"
   ]
  },
  {
   "cell_type": "markdown",
   "metadata": {},
   "source": [
    "**Finally, display the distribution of transactions by country.**"
   ]
  },
  {
   "cell_type": "code",
   "execution_count": 5,
   "metadata": {
    "scrolled": false
   },
   "outputs": [
    {
     "data": {
      "image/png": "[encoded data removed]",
      "text/plain": [
       "<matplotlib.figure.Figure at 0x7f799ca604d0>"
      ]
     },
     "metadata": {},
     "output_type": "display_data"
    }
   ],
   "source": [
    "# Make figsize 9x9\n",
    "plt.figure(figsize=(9,9))\n",
    "\n",
    "# Bar plot by country\n",
    "sns.countplot(y = 'Country', data=df)\n",
    "plt.show()"
   ]
  },
  {
   "cell_type": "markdown",
   "metadata": {},
   "source": [
    "<div style=\"text-align:center; margin: 40px 0 40px 0; font-weight:bold\">\n",
    "<a href=\"#toc\">Back to Contents</a>\n",
    "</div>"
   ]
  },
  {
   "cell_type": "markdown",
   "metadata": {},
   "source": [
    "<span id=\"cleaning\"></span>\n",
    "# 2. Transaction-level cleaning\n",
    "\n",
    "Before we aggregate to the customer level, we need to tidy up a few things at the transaction level.\n",
    "\n",
    "<br>\n",
    "**Display the number of missing observations for each feature.**"
   ]
  },
  {
   "cell_type": "code",
   "execution_count": 6,
   "metadata": {},
   "outputs": [
    {
     "data": {
      "text/plain": [
       "InvoiceNo         0\n",
       "StockCode         0\n",
       "Description       0\n",
       "Quantity          0\n",
       "InvoiceDate       0\n",
       "UnitPrice         0\n",
       "CustomerID     1418\n",
       "Country           0\n",
       "dtype: int64"
      ]
     },
     "execution_count": 6,
     "metadata": {},
     "output_type": "execute_result"
    }
   ],
   "source": [
    "# Missing data by feature\n",
    "df.isnull().sum()"
   ]
  },
  {
   "cell_type": "markdown",
   "metadata": {},
   "source": [
    "**Drop observations with missing customer ID's.**"
   ]
  },
  {
   "cell_type": "code",
   "execution_count": 7,
   "metadata": {
    "collapsed": true
   },
   "outputs": [],
   "source": [
    "# Only keep transactions with CustomerID's\n",
    "df.dropna(inplace=True)"
   ]
  },
  {
   "cell_type": "markdown",
   "metadata": {},
   "source": [
    "**Next, just for clarity, convert the CustomerID's from floats into integers.**\n",
    "* This is technically not required, but it's good practice.\n",
    "* ID's should be saved as strings or integers just so they don't get mixed up with other numeric features.\n",
    "* Then, display the first 5 CustomerID's in the transaction dataset just to confirm."
   ]
  },
  {
   "cell_type": "code",
   "execution_count": 8,
   "metadata": {},
   "outputs": [
    {
     "data": {
      "text/plain": [
       "0    12583\n",
       "1    12583\n",
       "2    12583\n",
       "3    12583\n",
       "4    12583\n",
       "Name: CustomerID, dtype: int64"
      ]
     },
     "execution_count": 8,
     "metadata": {},
     "output_type": "execute_result"
    }
   ],
   "source": [
    "# Convert customer ID's into integers\n",
    "df['CustomerID'] = df['CustomerID'].astype('int')\n",
    "\n",
    "# Display first 5 CustomerID's in the transaction dataset\n",
    "df['CustomerID'].head(5)"
   ]
  },
  {
   "cell_type": "markdown",
   "metadata": {},
   "source": [
    "**Create a <code style=\"color:steelblue\">'Sales'</code> interaction feature.**\n",
    "* Then, display the first 5 Sales values in the transaction dataset just to confirm."
   ]
  },
  {
   "cell_type": "code",
   "execution_count": 9,
   "metadata": {},
   "outputs": [
    {
     "data": {
      "text/plain": [
       "0    90.0\n",
       "1    90.0\n",
       "2    45.0\n",
       "3    10.2\n",
       "4    15.6\n",
       "Name: Sales, dtype: float64"
      ]
     },
     "execution_count": 9,
     "metadata": {},
     "output_type": "execute_result"
    }
   ],
   "source": [
    "# Create 'Sales' interaction feature\n",
    "df[\"Sales\"] = df[\"UnitPrice\"] * df[\"Quantity\"]\n",
    "\n",
    "# Display first 5 Sales values in the transaction dataset\n",
    "df[\"Sales\"].head(5)"
   ]
  },
  {
   "cell_type": "markdown",
   "metadata": {},
   "source": [
    "**Before moving on, save your cleaned transaction-level data as <code style=\"color:crimson\">cleaned_transactions.csv</code>.**\n",
    "* We'll return to this in <span style=\"color:royalblue\">Modules 2 and 3</span> to create the features for individual items.\n",
    "* Remember to set <code style=\"color:steelblue\">index=None</code> to save only the data and not the auto-generated index."
   ]
  },
  {
   "cell_type": "code",
   "execution_count": 10,
   "metadata": {
    "collapsed": true
   },
   "outputs": [],
   "source": [
    "# Save cleaned transaction-level data\n",
    "df.to_csv('cleaned_transactions.csv', index=None)"
   ]
  },
  {
   "cell_type": "markdown",
   "metadata": {},
   "source": [
    "<div style=\"text-align:center; margin: 40px 0 40px 0; font-weight:bold\">\n",
    "<a href=\"#toc\">Back to Contents</a>\n",
    "</div>"
   ]
  },
  {
   "cell_type": "markdown",
   "metadata": {},
   "source": [
    "<span id=\"customer-level\"></span>\n",
    "# 3. Customer-level feature engineering\n",
    "\n",
    "Now that we have a cleaned transaction-level dataset, it's time to **roll it up** to the customer level, which we'll feed into our machine learning algorithms later.\n",
    "\n",
    "<br>\n",
    "**First, we'll aggegrate invoice data by customer. We'll engineer 1 feature:**\n",
    "* <code style=\"color:steelblue\">'total_transactions'</code> - the total number of unique transactions for each customer."
   ]
  },
  {
   "cell_type": "code",
   "execution_count": 11,
   "metadata": {},
   "outputs": [
    {
     "name": "stderr",
     "output_type": "stream",
     "text": [
      "/home/elie/anaconda3/envs/py27/lib/python2.7/site-packages/ipykernel/__main__.py:2: FutureWarning: using a dict on a Series for aggregation\n",
      "is deprecated and will be removed in a future version\n",
      "  from ipykernel import kernelapp as app\n"
     ]
    },
    {
     "data": {
      "text/html": [
       "<div>\n",
       "<style>\n",
       "    .dataframe thead tr:only-child th {\n",
       "        text-align: right;\n",
       "    }\n",
       "\n",
       "    .dataframe thead th {\n",
       "        text-align: left;\n",
       "    }\n",
       "\n",
       "    .dataframe tbody tr th {\n",
       "        vertical-align: top;\n",
       "    }\n",
       "</style>\n",
       "<table border=\"1\" class=\"dataframe\">\n",
       "  <thead>\n",
       "    <tr style=\"text-align: right;\">\n",
       "      <th></th>\n",
       "      <th>total_transactions</th>\n",
       "    </tr>\n",
       "    <tr>\n",
       "      <th>CustomerID</th>\n",
       "      <th></th>\n",
       "    </tr>\n",
       "  </thead>\n",
       "  <tbody>\n",
       "    <tr>\n",
       "      <th>12347</th>\n",
       "      <td>7</td>\n",
       "    </tr>\n",
       "    <tr>\n",
       "      <th>12348</th>\n",
       "      <td>4</td>\n",
       "    </tr>\n",
       "    <tr>\n",
       "      <th>12349</th>\n",
       "      <td>1</td>\n",
       "    </tr>\n",
       "    <tr>\n",
       "      <th>12350</th>\n",
       "      <td>1</td>\n",
       "    </tr>\n",
       "    <tr>\n",
       "      <th>12352</th>\n",
       "      <td>8</td>\n",
       "    </tr>\n",
       "  </tbody>\n",
       "</table>\n",
       "</div>"
      ],
      "text/plain": [
       "            total_transactions\n",
       "CustomerID                    \n",
       "12347                        7\n",
       "12348                        4\n",
       "12349                        1\n",
       "12350                        1\n",
       "12352                        8"
      ]
     },
     "execution_count": 11,
     "metadata": {},
     "output_type": "execute_result"
    }
   ],
   "source": [
    "# Aggegrate invoice data\n",
    "invoice_data = df.groupby('CustomerID').InvoiceNo.agg({'total_transactions':'nunique'})\n",
    "\n",
    "# Display invoice data for first 5 customers\n",
    "invoice_data.head(5)"
   ]
  },
  {
   "cell_type": "markdown",
   "metadata": {},
   "source": [
    "**Next, using the same technique, aggregate product data by customer. Engineer 2 features:**\n",
    "* <code style=\"color:steelblue\">'total_products'</code> - the total number of products purchased by each customer (not the unit Quantity within each product!).\n",
    "* <code style=\"color:steelblue\">'total_unique_products'</code> - the number of unique products purchased by each customer.\n",
    "* **Hint:** you'll want to use the Item ID column (i.e. StockCode) after your groupby!\n",
    "* Let's name it <code style=\"color:crimson\">product_data</code>."
   ]
  },
  {
   "cell_type": "code",
   "execution_count": 12,
   "metadata": {},
   "outputs": [
    {
     "name": "stderr",
     "output_type": "stream",
     "text": [
      "/home/elie/anaconda3/envs/py27/lib/python2.7/site-packages/ipykernel/__main__.py:4: FutureWarning: using a dict on a Series for aggregation\n",
      "is deprecated and will be removed in a future version\n"
     ]
    },
    {
     "data": {
      "text/html": [
       "<div>\n",
       "<style>\n",
       "    .dataframe thead tr:only-child th {\n",
       "        text-align: right;\n",
       "    }\n",
       "\n",
       "    .dataframe thead th {\n",
       "        text-align: left;\n",
       "    }\n",
       "\n",
       "    .dataframe tbody tr th {\n",
       "        vertical-align: top;\n",
       "    }\n",
       "</style>\n",
       "<table border=\"1\" class=\"dataframe\">\n",
       "  <thead>\n",
       "    <tr style=\"text-align: right;\">\n",
       "      <th></th>\n",
       "      <th>total_products</th>\n",
       "      <th>total_unique_products</th>\n",
       "    </tr>\n",
       "    <tr>\n",
       "      <th>CustomerID</th>\n",
       "      <th></th>\n",
       "      <th></th>\n",
       "    </tr>\n",
       "  </thead>\n",
       "  <tbody>\n",
       "    <tr>\n",
       "      <th>12347</th>\n",
       "      <td>182</td>\n",
       "      <td>103</td>\n",
       "    </tr>\n",
       "    <tr>\n",
       "      <th>12348</th>\n",
       "      <td>31</td>\n",
       "      <td>22</td>\n",
       "    </tr>\n",
       "    <tr>\n",
       "      <th>12349</th>\n",
       "      <td>73</td>\n",
       "      <td>73</td>\n",
       "    </tr>\n",
       "    <tr>\n",
       "      <th>12350</th>\n",
       "      <td>17</td>\n",
       "      <td>17</td>\n",
       "    </tr>\n",
       "    <tr>\n",
       "      <th>12352</th>\n",
       "      <td>85</td>\n",
       "      <td>59</td>\n",
       "    </tr>\n",
       "  </tbody>\n",
       "</table>\n",
       "</div>"
      ],
      "text/plain": [
       "            total_products  total_unique_products\n",
       "CustomerID                                       \n",
       "12347                  182                    103\n",
       "12348                   31                     22\n",
       "12349                   73                     73\n",
       "12350                   17                     17\n",
       "12352                   85                     59"
      ]
     },
     "execution_count": 12,
     "metadata": {},
     "output_type": "execute_result"
    }
   ],
   "source": [
    "# Aggregate product data\n",
    "product_data = df.groupby('CustomerID').StockCode.agg({\n",
    "                                'total_products':'count',\n",
    "                                 'total_unique_products':'nunique'})\n",
    "\n",
    "# Display product data for first 5 customers\n",
    "product_data.head(5)"
   ]
  },
  {
   "cell_type": "markdown",
   "metadata": {},
   "source": [
    "**Finally, aggregate sales data by customer. Engineer 2 features:**\n",
    "* <code style=\"color:steelblue\">'total_sales'</code> - the total sales for each customer.\n",
    "* <code style=\"color:steelblue\">'avg_product_value'</code> - the average value of the products purchased by the customer (not the UnitPrice!).\n",
    "* **Hint:** you'll want to use the Sales column after your groupby!\n",
    "* Let's name it <code style=\"color:crimson\">sales_data</code>."
   ]
  },
  {
   "cell_type": "code",
   "execution_count": 13,
   "metadata": {},
   "outputs": [
    {
     "name": "stderr",
     "output_type": "stream",
     "text": [
      "/home/elie/anaconda3/envs/py27/lib/python2.7/site-packages/ipykernel/__main__.py:4: FutureWarning: using a dict on a Series for aggregation\n",
      "is deprecated and will be removed in a future version\n"
     ]
    },
    {
     "data": {
      "text/html": [
       "<div>\n",
       "<style>\n",
       "    .dataframe thead tr:only-child th {\n",
       "        text-align: right;\n",
       "    }\n",
       "\n",
       "    .dataframe thead th {\n",
       "        text-align: left;\n",
       "    }\n",
       "\n",
       "    .dataframe tbody tr th {\n",
       "        vertical-align: top;\n",
       "    }\n",
       "</style>\n",
       "<table border=\"1\" class=\"dataframe\">\n",
       "  <thead>\n",
       "    <tr style=\"text-align: right;\">\n",
       "      <th></th>\n",
       "      <th>avg_product_value</th>\n",
       "      <th>total_sales</th>\n",
       "    </tr>\n",
       "    <tr>\n",
       "      <th>CustomerID</th>\n",
       "      <th></th>\n",
       "      <th></th>\n",
       "    </tr>\n",
       "  </thead>\n",
       "  <tbody>\n",
       "    <tr>\n",
       "      <th>12347</th>\n",
       "      <td>23.681319</td>\n",
       "      <td>4310.00</td>\n",
       "    </tr>\n",
       "    <tr>\n",
       "      <th>12348</th>\n",
       "      <td>57.975484</td>\n",
       "      <td>1797.24</td>\n",
       "    </tr>\n",
       "    <tr>\n",
       "      <th>12349</th>\n",
       "      <td>24.076027</td>\n",
       "      <td>1757.55</td>\n",
       "    </tr>\n",
       "    <tr>\n",
       "      <th>12350</th>\n",
       "      <td>19.670588</td>\n",
       "      <td>334.40</td>\n",
       "    </tr>\n",
       "    <tr>\n",
       "      <th>12352</th>\n",
       "      <td>29.482824</td>\n",
       "      <td>2506.04</td>\n",
       "    </tr>\n",
       "  </tbody>\n",
       "</table>\n",
       "</div>"
      ],
      "text/plain": [
       "            avg_product_value  total_sales\n",
       "CustomerID                                \n",
       "12347               23.681319      4310.00\n",
       "12348               57.975484      1797.24\n",
       "12349               24.076027      1757.55\n",
       "12350               19.670588       334.40\n",
       "12352               29.482824      2506.04"
      ]
     },
     "execution_count": 13,
     "metadata": {},
     "output_type": "execute_result"
    }
   ],
   "source": [
    "# Roll up sales data\n",
    "sales_data = df.groupby('CustomerID').Sales.agg({\n",
    "                    'total_sales': 'sum',\n",
    "                     'avg_product_value': 'mean'\n",
    "                        })\n",
    "\n",
    "# Display sales data for first 5 customers\n",
    "sales_data.head(5)"
   ]
  },
  {
   "cell_type": "markdown",
   "metadata": {},
   "source": [
    "<div style=\"text-align:center; margin: 40px 0 40px 0; font-weight:bold\">\n",
    "<a href=\"#toc\">Back to Contents</a>\n",
    "</div>"
   ]
  },
  {
   "cell_type": "markdown",
   "metadata": {},
   "source": [
    "<span id=\"intermediary-levels\"></span>\n",
    "# 4. Intermediary levels\n",
    "\n",
    "You won't always be able to easily roll up to customer-level directly... Sometimes, it will be easier to create intermediary levels first.\n",
    "\n",
    "<br>\n",
    "**Let's first aggregate cart data at the \"cart-level.\"**\n",
    "* We'll group by <code style=\"color:steelblue\">'CustomerID'</code> AND by <code style=\"color:steelblue\">'InvoiceID'</code>. Remember, we're treating each invoice as a \"cart.\"\n",
    "* Then, we'll calculate <code style=\"color:steelblue\">'cart_value'</code> by taking the sum of the Sales column. This is the total sales by invoice (i.e. cart).\n",
    "* Finally, we'll call <code style=\"color:steelblue\">.reset_index()</code> to turn CustomerID and InvoiceID back into regular columns so we can perform another aggregation."
   ]
  },
  {
   "cell_type": "code",
   "execution_count": 14,
   "metadata": {},
   "outputs": [
    {
     "name": "stderr",
     "output_type": "stream",
     "text": [
      "/home/elie/anaconda3/envs/py27/lib/python2.7/site-packages/ipykernel/__main__.py:3: FutureWarning: using a dict on a Series for aggregation\n",
      "is deprecated and will be removed in a future version\n",
      "  app.launch_new_instance()\n"
     ]
    },
    {
     "data": {
      "text/html": [
       "<div>\n",
       "<style>\n",
       "    .dataframe thead tr:only-child th {\n",
       "        text-align: right;\n",
       "    }\n",
       "\n",
       "    .dataframe thead th {\n",
       "        text-align: left;\n",
       "    }\n",
       "\n",
       "    .dataframe tbody tr th {\n",
       "        vertical-align: top;\n",
       "    }\n",
       "</style>\n",
       "<table border=\"1\" class=\"dataframe\">\n",
       "  <thead>\n",
       "    <tr style=\"text-align: right;\">\n",
       "      <th></th>\n",
       "      <th>CustomerID</th>\n",
       "      <th>InvoiceNo</th>\n",
       "      <th>cart_value</th>\n",
       "    </tr>\n",
       "  </thead>\n",
       "  <tbody>\n",
       "    <tr>\n",
       "      <th>0</th>\n",
       "      <td>12347</td>\n",
       "      <td>537626</td>\n",
       "      <td>711.79</td>\n",
       "    </tr>\n",
       "    <tr>\n",
       "      <th>1</th>\n",
       "      <td>12347</td>\n",
       "      <td>542237</td>\n",
       "      <td>475.39</td>\n",
       "    </tr>\n",
       "    <tr>\n",
       "      <th>2</th>\n",
       "      <td>12347</td>\n",
       "      <td>549222</td>\n",
       "      <td>636.25</td>\n",
       "    </tr>\n",
       "    <tr>\n",
       "      <th>3</th>\n",
       "      <td>12347</td>\n",
       "      <td>556201</td>\n",
       "      <td>382.52</td>\n",
       "    </tr>\n",
       "    <tr>\n",
       "      <th>4</th>\n",
       "      <td>12347</td>\n",
       "      <td>562032</td>\n",
       "      <td>584.91</td>\n",
       "    </tr>\n",
       "  </tbody>\n",
       "</table>\n",
       "</div>"
      ],
      "text/plain": [
       "   CustomerID  InvoiceNo  cart_value\n",
       "0       12347     537626      711.79\n",
       "1       12347     542237      475.39\n",
       "2       12347     549222      636.25\n",
       "3       12347     556201      382.52\n",
       "4       12347     562032      584.91"
      ]
     },
     "execution_count": 14,
     "metadata": {},
     "output_type": "execute_result"
    }
   ],
   "source": [
    "# Aggregate cart-level data (i.e. invoice-level)\n",
    "cart_data = df.groupby(['CustomerID', 'InvoiceNo']).Sales.agg({\n",
    "                'cart_value': 'sum',\n",
    "                 } )\n",
    "\n",
    "# Reset index\n",
    "cart_data.reset_index(inplace=True)\n",
    "\n",
    "# Display cart data for first 5 CARTS\n",
    "cart_data.head(5)"
   ]
  },
  {
   "cell_type": "markdown",
   "metadata": {},
   "source": [
    "**Aggregate cart data by customer. Engineer 3 features:**\n",
    "* <code style=\"color:steelblue\">'avg_cart_value'</code> - average cart value by customer.\n",
    "* <code style=\"color:steelblue\">'min_cart_value'</code> - minimum cart value by customer.\n",
    "* <code style=\"color:steelblue\">'max_cart_value'</code> - maximum cart value by customer.\n",
    "* Let's name it <code style=\"color:crimson\">agg_cart_data</code>."
   ]
  },
  {
   "cell_type": "code",
   "execution_count": 15,
   "metadata": {},
   "outputs": [
    {
     "name": "stderr",
     "output_type": "stream",
     "text": [
      "/home/elie/anaconda3/envs/py27/lib/python2.7/site-packages/ipykernel/__main__.py:5: FutureWarning: using a dict on a Series for aggregation\n",
      "is deprecated and will be removed in a future version\n"
     ]
    },
    {
     "data": {
      "text/html": [
       "<div>\n",
       "<style>\n",
       "    .dataframe thead tr:only-child th {\n",
       "        text-align: right;\n",
       "    }\n",
       "\n",
       "    .dataframe thead th {\n",
       "        text-align: left;\n",
       "    }\n",
       "\n",
       "    .dataframe tbody tr th {\n",
       "        vertical-align: top;\n",
       "    }\n",
       "</style>\n",
       "<table border=\"1\" class=\"dataframe\">\n",
       "  <thead>\n",
       "    <tr style=\"text-align: right;\">\n",
       "      <th></th>\n",
       "      <th>min_cart_value</th>\n",
       "      <th>max_cart_value</th>\n",
       "      <th>avg_cart_value</th>\n",
       "    </tr>\n",
       "    <tr>\n",
       "      <th>CustomerID</th>\n",
       "      <th></th>\n",
       "      <th></th>\n",
       "      <th></th>\n",
       "    </tr>\n",
       "  </thead>\n",
       "  <tbody>\n",
       "    <tr>\n",
       "      <th>12347</th>\n",
       "      <td>224.82</td>\n",
       "      <td>1294.32</td>\n",
       "      <td>615.714286</td>\n",
       "    </tr>\n",
       "    <tr>\n",
       "      <th>12348</th>\n",
       "      <td>227.44</td>\n",
       "      <td>892.80</td>\n",
       "      <td>449.310000</td>\n",
       "    </tr>\n",
       "    <tr>\n",
       "      <th>12349</th>\n",
       "      <td>1757.55</td>\n",
       "      <td>1757.55</td>\n",
       "      <td>1757.550000</td>\n",
       "    </tr>\n",
       "    <tr>\n",
       "      <th>12350</th>\n",
       "      <td>334.40</td>\n",
       "      <td>334.40</td>\n",
       "      <td>334.400000</td>\n",
       "    </tr>\n",
       "    <tr>\n",
       "      <th>12352</th>\n",
       "      <td>120.33</td>\n",
       "      <td>840.30</td>\n",
       "      <td>313.255000</td>\n",
       "    </tr>\n",
       "  </tbody>\n",
       "</table>\n",
       "</div>"
      ],
      "text/plain": [
       "            min_cart_value  max_cart_value  avg_cart_value\n",
       "CustomerID                                                \n",
       "12347               224.82         1294.32      615.714286\n",
       "12348               227.44          892.80      449.310000\n",
       "12349              1757.55         1757.55     1757.550000\n",
       "12350               334.40          334.40      334.400000\n",
       "12352               120.33          840.30      313.255000"
      ]
     },
     "execution_count": 15,
     "metadata": {},
     "output_type": "execute_result"
    }
   ],
   "source": [
    "# Aggregate cart data (at customer-level)\n",
    "agg_cart_data = cart_data.groupby('CustomerID').cart_value.agg({\n",
    "    'avg_cart_value': 'mean',\n",
    "    'min_cart_value': 'min',\n",
    "    'max_cart_value': 'max'\n",
    "})\n",
    "\n",
    "\n",
    "# Display cart data for first 5 CUSTOMERS\n",
    "agg_cart_data.head(5)"
   ]
  },
  {
   "cell_type": "markdown",
   "metadata": {},
   "source": [
    "<div style=\"text-align:center; margin: 40px 0 40px 0; font-weight:bold\">\n",
    "<a href=\"#toc\">Back to Contents</a>\n",
    "</div>"
   ]
  },
  {
   "cell_type": "markdown",
   "metadata": {},
   "source": [
    "<span id=\"joining\"></span>\n",
    "# 5. Joining together the ABT\n",
    "\n",
    "Great, now you have multiple dataframes that each contain customer-level features. \n",
    "\n",
    "<br>\n",
    "**Let's join the various customer-level datasets together with the <code style=\"color:steelblue\">.join()</code> function.**\n",
    "* Just pick one of the customer-level dataframes and join it to a list of the others.\n",
    "* By default, it will join the dataframes on their <code style=\"color:steelblue\">index</code>... In this case, it will join by CustomerID, which is exactly what we want.\n",
    "* You can read more about the <code style=\"color:steelblue\">.join()</code> function in the <a href=\"http://pandas.pydata.org/pandas-docs/stable/generated/pandas.DataFrame.join.html\" target=\"_blank\">documentation</a>."
   ]
  },
  {
   "cell_type": "code",
   "execution_count": 16,
   "metadata": {},
   "outputs": [
    {
     "data": {
      "text/html": [
       "<div>\n",
       "<style>\n",
       "    .dataframe thead tr:only-child th {\n",
       "        text-align: right;\n",
       "    }\n",
       "\n",
       "    .dataframe thead th {\n",
       "        text-align: left;\n",
       "    }\n",
       "\n",
       "    .dataframe tbody tr th {\n",
       "        vertical-align: top;\n",
       "    }\n",
       "</style>\n",
       "<table border=\"1\" class=\"dataframe\">\n",
       "  <thead>\n",
       "    <tr style=\"text-align: right;\">\n",
       "      <th></th>\n",
       "      <th>total_transactions</th>\n",
       "      <th>total_products</th>\n",
       "      <th>total_unique_products</th>\n",
       "      <th>avg_product_value</th>\n",
       "      <th>total_sales</th>\n",
       "      <th>min_cart_value</th>\n",
       "      <th>max_cart_value</th>\n",
       "      <th>avg_cart_value</th>\n",
       "    </tr>\n",
       "    <tr>\n",
       "      <th>CustomerID</th>\n",
       "      <th></th>\n",
       "      <th></th>\n",
       "      <th></th>\n",
       "      <th></th>\n",
       "      <th></th>\n",
       "      <th></th>\n",
       "      <th></th>\n",
       "      <th></th>\n",
       "    </tr>\n",
       "  </thead>\n",
       "  <tbody>\n",
       "    <tr>\n",
       "      <th>12347</th>\n",
       "      <td>7</td>\n",
       "      <td>182</td>\n",
       "      <td>103</td>\n",
       "      <td>23.681319</td>\n",
       "      <td>4310.00</td>\n",
       "      <td>224.82</td>\n",
       "      <td>1294.32</td>\n",
       "      <td>615.714286</td>\n",
       "    </tr>\n",
       "    <tr>\n",
       "      <th>12348</th>\n",
       "      <td>4</td>\n",
       "      <td>31</td>\n",
       "      <td>22</td>\n",
       "      <td>57.975484</td>\n",
       "      <td>1797.24</td>\n",
       "      <td>227.44</td>\n",
       "      <td>892.80</td>\n",
       "      <td>449.310000</td>\n",
       "    </tr>\n",
       "    <tr>\n",
       "      <th>12349</th>\n",
       "      <td>1</td>\n",
       "      <td>73</td>\n",
       "      <td>73</td>\n",
       "      <td>24.076027</td>\n",
       "      <td>1757.55</td>\n",
       "      <td>1757.55</td>\n",
       "      <td>1757.55</td>\n",
       "      <td>1757.550000</td>\n",
       "    </tr>\n",
       "    <tr>\n",
       "      <th>12350</th>\n",
       "      <td>1</td>\n",
       "      <td>17</td>\n",
       "      <td>17</td>\n",
       "      <td>19.670588</td>\n",
       "      <td>334.40</td>\n",
       "      <td>334.40</td>\n",
       "      <td>334.40</td>\n",
       "      <td>334.400000</td>\n",
       "    </tr>\n",
       "    <tr>\n",
       "      <th>12352</th>\n",
       "      <td>8</td>\n",
       "      <td>85</td>\n",
       "      <td>59</td>\n",
       "      <td>29.482824</td>\n",
       "      <td>2506.04</td>\n",
       "      <td>120.33</td>\n",
       "      <td>840.30</td>\n",
       "      <td>313.255000</td>\n",
       "    </tr>\n",
       "  </tbody>\n",
       "</table>\n",
       "</div>"
      ],
      "text/plain": [
       "            total_transactions  total_products  total_unique_products  \\\n",
       "CustomerID                                                              \n",
       "12347                        7             182                    103   \n",
       "12348                        4              31                     22   \n",
       "12349                        1              73                     73   \n",
       "12350                        1              17                     17   \n",
       "12352                        8              85                     59   \n",
       "\n",
       "            avg_product_value  total_sales  min_cart_value  max_cart_value  \\\n",
       "CustomerID                                                                   \n",
       "12347               23.681319      4310.00          224.82         1294.32   \n",
       "12348               57.975484      1797.24          227.44          892.80   \n",
       "12349               24.076027      1757.55         1757.55         1757.55   \n",
       "12350               19.670588       334.40          334.40          334.40   \n",
       "12352               29.482824      2506.04          120.33          840.30   \n",
       "\n",
       "            avg_cart_value  \n",
       "CustomerID                  \n",
       "12347           615.714286  \n",
       "12348           449.310000  \n",
       "12349          1757.550000  \n",
       "12350           334.400000  \n",
       "12352           313.255000  "
      ]
     },
     "execution_count": 16,
     "metadata": {},
     "output_type": "execute_result"
    }
   ],
   "source": [
    "# Join together customer-level ABT\n",
    "customer_df = invoice_data.join([product_data, sales_data, agg_cart_data])\n",
    "\n",
    "# Display customer-level data for first 5 customers\n",
    "customer_df.head(5)"
   ]
  },
  {
   "cell_type": "markdown",
   "metadata": {},
   "source": [
    "**Finally, let's save <code style=\"color:crimson\">customer_df</code> as our analytical base table to use later.**\n",
    "* **Important:** We will not set <code style=\"color:steelblue\">index=None</code> because we want to keep the CustomerID's as the index (this will be important when we get to Module 4)."
   ]
  },
  {
   "cell_type": "code",
   "execution_count": 17,
   "metadata": {
    "collapsed": true
   },
   "outputs": [],
   "source": [
    "# Save analytical base table\n",
    "customer_df.to_csv('analytical_base_table.csv')"
   ]
  },
  {
   "cell_type": "markdown",
   "metadata": {},
   "source": [
    "<div style=\"text-align:center; margin: 40px 0 40px 0; font-weight:bold\">\n",
    "<a href=\"#toc\">Back to Contents</a>\n",
    "</div>"
   ]
  },
  {
   "cell_type": "markdown",
   "metadata": {},
   "source": [
    "<br>\n",
    "## Next Steps\n",
    "\n",
    "Congratulations for making it through Project 4's Data Wrangling!\n",
    "\n",
    "As a reminder, here are a few things you did in this module:\n",
    "* You explored and cleaned the transaction-level dataset.\n",
    "* You then rolled it up to the customer level, aggregating new features along the way.\n",
    "* You also saw how intermediary groupby's can help you create otherwise tricky features.\n",
    "* And you joined all of your customer-level datasets together into one analytical base table.\n",
    "\n",
    "In the next module, <span style=\"color:royalblue\">Module 2: Dimensionality Reduction</span>, we'll see how trying to include features for individual items can raise new challenges (i.e. The Curse of Dimensionality). We'll also introduce you to the first of 2 recommended solutions: thresholding.\n",
    "\n",
    "<div style=\"text-align:center; margin: 40px 0 40px 0; font-weight:bold\">\n",
    "<a href=\"#toc\">Back to Contents</a>\n",
    "</div>"
   ]
  }
 ],
 "metadata": {
  "anaconda-cloud": {},
  "kernelspec": {
   "display_name": "Python [conda env:py27]",
   "language": "python",
   "name": "conda-env-py27-py"
  },
  "language_info": {
   "codemirror_mode": {
    "name": "ipython",
    "version": 2
   },
   "file_extension": ".py",
   "mimetype": "text/x-python",
   "name": "python",
   "nbconvert_exporter": "python",
   "pygments_lexer": "ipython2",
   "version": "2.7.13"
  }
 },
 "nbformat": 4,
 "nbformat_minor": 1
}
